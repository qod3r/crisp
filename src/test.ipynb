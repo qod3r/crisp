{
 "cells": [
  {
   "cell_type": "code",
   "execution_count": null,
   "metadata": {},
   "outputs": [],
   "source": [
    "import torch\n",
    "import torchvision.models as models\n",
    "from torch.nn import functional as F\n",
    "from torch.utils.data import DataLoader, Dataset\n",
    "from torchvision import transforms\n",
    "\n",
    "root_path = 'data/nahimova_f/'"
   ]
  },
  {
   "cell_type": "code",
   "execution_count": null,
   "metadata": {},
   "outputs": [],
   "source": [
    "class CustomDataset(Dataset):\n",
    "    def __init__(self, data, targets, root_path, transform=None):\n",
    "        self.data = data\n",
    "        self.targets = targets\n",
    "        self.root_path = root_path\n",
    "        self.transform = transform\n",
    "\n",
    "    def __len__(self):\n",
    "        return len(self.data)\n",
    "\n",
    "    def __getitem__(self, index):\n",
    "\n",
    "        x = self.data.iloc[index]\n",
    "        y = self.targets.iloc[index]\n",
    "\n",
    "        # загрузка изображения и вырезание участка\n",
    "        image_path = self.root_path + x[\"filename\"]\n",
    "\n",
    "        image = Image.open(image_path)\n",
    "        cropped_image = image.crop(\n",
    "            (\n",
    "                x[\"x_from\"],\n",
    "                x[\"y_from\"],\n",
    "                x[\"x_from\"] + x[\"width\"],\n",
    "                x[\"y_from\"] + x[\"height\"],\n",
    "            )\n",
    "        )\n",
    "\n",
    "        if self.transform:\n",
    "            cropped_image = self.transform(cropped_image)\n",
    "\n",
    "        return cropped_image, y"
   ]
  },
  {
   "cell_type": "code",
   "execution_count": null,
   "metadata": {},
   "outputs": [],
   "source": [
    "transform = transforms.Compose(\n",
    "    [\n",
    "        transforms.Resize((224, 224)),  # Размер, который ожидает ResNet\n",
    "        transforms.ToTensor(),\n",
    "        transforms.Normalize(\n",
    "            mean=[0.485, 0.456, 0.406], std=[0.229, 0.224, 0.225]\n",
    "        ),  # Нормализация для ResNet\n",
    "    ]\n",
    ")"
   ]
  },
  {
   "cell_type": "code",
   "execution_count": null,
   "metadata": {},
   "outputs": [],
   "source": [
    "test_dataset = CustomDataset(\n",
    "    data=x_test, targets=y_test, root_path=root_path, transform=transform\n",
    ")\n",
    "test_dataloader = DataLoader(test_dataset, batch_size=1, shuffle=False)"
   ]
  },
  {
   "cell_type": "code",
   "execution_count": null,
   "metadata": {},
   "outputs": [],
   "source": [
    "resnet = models.resnet50(pretrained=False)\n",
    "resnet.fc = torch.nn.Linear(resnet.fc.in_features, 155)\n",
    "\n",
    "device = torch.device(\"cpu\")\n",
    "resnet.to(device)"
   ]
  },
  {
   "cell_type": "code",
   "execution_count": null,
   "metadata": {},
   "outputs": [],
   "source": [
    "def model_predictions(model, loader):\n",
    "    real_target, pred_target = [], []\n",
    "    resnet.to(device)\n",
    "\n",
    "    resnet.to(device)\n",
    "\n",
    "    for X, Y in loader:\n",
    "        X, Y = X.to(device), Y.to(device)\n",
    "        pred = model(X)\n",
    "        pred_target.append(pred)\n",
    "        real_target.append(Y)\n",
    "    pred_target, real_target = torch.cat(pred_target), torch.cat(real_target)\n",
    "\n",
    "    return (\n",
    "        real_target.detach().cpu().numpy(),\n",
    "        F.softmax(pred_target, dim=-1).argmax(dim=-1).cpu().detach().numpy(),\n",
    "    )"
   ]
  },
  {
   "cell_type": "code",
   "execution_count": null,
   "metadata": {},
   "outputs": [],
   "source": []
  }
 ],
 "metadata": {
  "kernelspec": {
   "display_name": ".venv",
   "language": "python",
   "name": "python3"
  },
  "language_info": {
   "name": "python",
   "version": "3.11.6"
  }
 },
 "nbformat": 4,
 "nbformat_minor": 2
}
